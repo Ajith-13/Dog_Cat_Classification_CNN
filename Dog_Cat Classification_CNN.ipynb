{
  "cells": [
    {
      "cell_type": "code",
      "execution_count": 1,
      "metadata": {
        "id": "AA2mzF_V793E"
      },
      "outputs": [],
      "source": [
        "import tensorflow as tf\n",
        "from keras.preprocessing.image import ImageDataGenerator"
      ]
    },
    {
      "cell_type": "code",
      "execution_count": 2,
      "metadata": {
        "id": "MnAfUa9bSqnX",
        "colab": {
          "base_uri": "https://localhost:8080/"
        },
        "outputId": "b64644be-385e-4623-cd96-cea66da46c40"
      },
      "outputs": [
        {
          "output_type": "stream",
          "name": "stdout",
          "text": [
            "Drive already mounted at /content/drive; to attempt to forcibly remount, call drive.mount(\"/content/drive\", force_remount=True).\n"
          ]
        }
      ],
      "source": [
        "from google.colab import drive\n",
        "drive.mount('/content/drive')"
      ]
    },
    {
      "cell_type": "markdown",
      "metadata": {
        "id": "G_ldLtzEpMSh"
      },
      "source": [
        "## Processing the training data"
      ]
    },
    {
      "cell_type": "code",
      "execution_count": 3,
      "metadata": {
        "id": "BgiuJsHEQUOM",
        "colab": {
          "base_uri": "https://localhost:8080/"
        },
        "outputId": "397c6128-e7eb-4489-bc12-ac255f6f3662"
      },
      "outputs": [
        {
          "output_type": "stream",
          "name": "stdout",
          "text": [
            "Found 8000 images belonging to 2 classes.\n"
          ]
        }
      ],
      "source": [
        "\n",
        "train_datagen = ImageDataGenerator(rescale = 1./255,\n",
        "                                   shear_range = 0.2,\n",
        "                                   zoom_range = 0.2,\n",
        "                                   horizontal_flip=True)\n",
        "training_set = train_datagen.flow_from_directory(\"/content/drive/MyDrive/Colab datasets/Dog-Cat/train\",\n",
        "                                                 target_size = (64, 64),\n",
        "                                                 batch_size = 32,\n",
        "                                                 class_mode = 'binary')"
      ]
    },
    {
      "cell_type": "markdown",
      "metadata": {
        "id": "KJk3ma2upZYn"
      },
      "source": [
        "## Processing the test set"
      ]
    },
    {
      "cell_type": "code",
      "execution_count": 4,
      "metadata": {
        "colab": {
          "base_uri": "https://localhost:8080/"
        },
        "id": "J6xEXnRTvKYw",
        "outputId": "63b04506-f02b-4565-99ff-ff4493669201"
      },
      "outputs": [
        {
          "output_type": "stream",
          "name": "stdout",
          "text": [
            "Found 2005 images belonging to 2 classes.\n"
          ]
        }
      ],
      "source": [
        "test_datagen = ImageDataGenerator(rescale = 1./255)\n",
        "test_set = test_datagen.flow_from_directory(\"/content/drive/MyDrive/Colab datasets/Dog-Cat/test\",\n",
        "                                                 target_size = (64, 64),\n",
        "                                                 batch_size = 32,\n",
        "                                                 class_mode = 'binary')"
      ]
    },
    {
      "cell_type": "markdown",
      "metadata": {
        "id": "tZRV8kKevK2E"
      },
      "source": [
        "## Convolutional layer"
      ]
    },
    {
      "cell_type": "code",
      "execution_count": 5,
      "metadata": {
        "id": "X_s1UMc1pwed"
      },
      "outputs": [],
      "source": [
        "cnn=tf.keras.models.Sequential()"
      ]
    },
    {
      "cell_type": "code",
      "execution_count": 6,
      "metadata": {
        "id": "6Ozfn4UavZki"
      },
      "outputs": [],
      "source": [
        "#from keras.metrics.metrics import activations\n",
        "cnn.add(tf.keras.layers.Conv2D(filters=32, kernel_size=3, activation=\"relu\", input_shape=[64,64,3]))"
      ]
    },
    {
      "cell_type": "markdown",
      "metadata": {
        "id": "x-T-8vR8xLTJ"
      },
      "source": [
        "## Polling"
      ]
    },
    {
      "cell_type": "code",
      "execution_count": 7,
      "metadata": {
        "id": "uxF41sWvwR1T"
      },
      "outputs": [],
      "source": [
        "cnn.add(tf.keras.layers.MaxPool2D(pool_size=3,strides=2))"
      ]
    },
    {
      "cell_type": "markdown",
      "metadata": {
        "id": "omXs8aZ9xrkD"
      },
      "source": [
        "## Second CNN Layer"
      ]
    },
    {
      "cell_type": "code",
      "execution_count": 8,
      "metadata": {
        "id": "s7XmhaW1xve3"
      },
      "outputs": [],
      "source": [
        "cnn.add(tf.keras.layers.Conv2D(filters=32, kernel_size=3, activation=\"relu\"))\n",
        "cnn.add(tf.keras.layers.MaxPool2D(pool_size=3,strides=2))"
      ]
    },
    {
      "cell_type": "markdown",
      "source": [
        "## Flattning"
      ],
      "metadata": {
        "id": "fQZM3d_iHBEp"
      }
    },
    {
      "cell_type": "code",
      "execution_count": 9,
      "metadata": {
        "id": "1C6xCpMVx6f8"
      },
      "outputs": [],
      "source": [
        "cnn.add(tf.keras.layers.Flatten())"
      ]
    },
    {
      "cell_type": "markdown",
      "source": [
        "## Full Connection"
      ],
      "metadata": {
        "id": "vPZ_py8-HGmv"
      }
    },
    {
      "cell_type": "code",
      "source": [
        "cnn.add(tf.keras.layers.Dense(units=128, activation='relu'))"
      ],
      "metadata": {
        "id": "iG3IaN2YHEoa"
      },
      "execution_count": 10,
      "outputs": []
    },
    {
      "cell_type": "markdown",
      "source": [
        "## Output Layer"
      ],
      "metadata": {
        "id": "UbQYSoc1HN1C"
      }
    },
    {
      "cell_type": "code",
      "source": [
        "cnn.add(tf.keras.layers.Dense(units=1, activation='sigmoid'))"
      ],
      "metadata": {
        "id": "7O_Aw-i8HSN7"
      },
      "execution_count": 11,
      "outputs": []
    },
    {
      "cell_type": "markdown",
      "source": [
        "## Compailing the CNN"
      ],
      "metadata": {
        "id": "8BgmuuGEHlFh"
      }
    },
    {
      "cell_type": "code",
      "source": [
        "cnn.compile(optimizer = 'adam', loss = 'binary_crossentropy', metrics = ['accuracy'])"
      ],
      "metadata": {
        "id": "uFBqjmPbHUj8"
      },
      "execution_count": 12,
      "outputs": []
    },
    {
      "cell_type": "markdown",
      "source": [
        "Training the CNN on Training set and evaluating on Test set"
      ],
      "metadata": {
        "id": "at10ojpbHp2w"
      }
    },
    {
      "cell_type": "code",
      "source": [
        "cnn.compile(optimizer = 'adam', loss = 'binary_crossentropy', metrics = ['accuracy'])"
      ],
      "metadata": {
        "id": "OwhxBGGOH4Xk"
      },
      "execution_count": 13,
      "outputs": []
    },
    {
      "cell_type": "markdown",
      "source": [
        "## Making a Prediction"
      ],
      "metadata": {
        "id": "T6OSgoU9Iv2B"
      }
    },
    {
      "cell_type": "code",
      "source": [
        "import numpy as np\n",
        "from keras.preprocessing import image\n",
        "test_image = tf.keras.utils.load_img('/content/drive/MyDrive/Colab datasets/Dog-Cat/single_predection/dog.461.jpg', target_size = (64, 64))\n",
        "test_image = tf.keras.utils.img_to_array(test_image)\n",
        "test_image = np.expand_dims(test_image, axis = 0)\n",
        "result = cnn.predict(test_image)\n",
        "training_set.class_indices\n",
        "if result[0][0] == 1:\n",
        "    prediction = 'cat'\n",
        "else:\n",
        "    prediction = 'dog'\n",
        "print(prediction)"
      ],
      "metadata": {
        "id": "hwct_0JlH46f",
        "colab": {
          "base_uri": "https://localhost:8080/"
        },
        "outputId": "85297e72-27bd-412f-c148-3e1d46ee604b"
      },
      "execution_count": 14,
      "outputs": [
        {
          "output_type": "stream",
          "name": "stdout",
          "text": [
            "1/1 [==============================] - 0s 281ms/step\n",
            "cat\n"
          ]
        }
      ]
    },
    {
      "cell_type": "code",
      "source": [],
      "metadata": {
        "id": "2P6Q9yDaTlzW"
      },
      "execution_count": 14,
      "outputs": []
    }
  ],
  "metadata": {
    "colab": {
      "provenance": []
    },
    "kernelspec": {
      "display_name": "Python 3",
      "name": "python3"
    },
    "language_info": {
      "name": "python"
    }
  },
  "nbformat": 4,
  "nbformat_minor": 0
}